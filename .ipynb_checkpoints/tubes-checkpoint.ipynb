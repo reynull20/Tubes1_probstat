{
 "cells": [
  {
   "cell_type": "code",
   "execution_count": 1,
   "metadata": {},
   "outputs": [
    {
     "data": {
      "text/html": [
       "<div>\n",
       "<style scoped>\n",
       "    .dataframe tbody tr th:only-of-type {\n",
       "        vertical-align: middle;\n",
       "    }\n",
       "\n",
       "    .dataframe tbody tr th {\n",
       "        vertical-align: top;\n",
       "    }\n",
       "\n",
       "    .dataframe thead th {\n",
       "        text-align: right;\n",
       "    }\n",
       "</style>\n",
       "<table border=\"1\" class=\"dataframe\">\n",
       "  <thead>\n",
       "    <tr style=\"text-align: right;\">\n",
       "      <th></th>\n",
       "      <th>0</th>\n",
       "      <th>1</th>\n",
       "      <th>2</th>\n",
       "      <th>3</th>\n",
       "      <th>4</th>\n",
       "      <th>5</th>\n",
       "      <th>6</th>\n",
       "      <th>7</th>\n",
       "      <th>8</th>\n",
       "      <th>9</th>\n",
       "      <th>10</th>\n",
       "      <th>11</th>\n",
       "    </tr>\n",
       "  </thead>\n",
       "  <tbody>\n",
       "    <tr>\n",
       "      <th>0</th>\n",
       "      <td>1</td>\n",
       "      <td>5781</td>\n",
       "      <td>128.288875</td>\n",
       "      <td>58.470846</td>\n",
       "      <td>0.890095</td>\n",
       "      <td>5954</td>\n",
       "      <td>85.793926</td>\n",
       "      <td>0.674090</td>\n",
       "      <td>316.756</td>\n",
       "      <td>0.724041</td>\n",
       "      <td>2.194066</td>\n",
       "      <td>1</td>\n",
       "    </tr>\n",
       "    <tr>\n",
       "      <th>1</th>\n",
       "      <td>2</td>\n",
       "      <td>4176</td>\n",
       "      <td>109.348294</td>\n",
       "      <td>49.837688</td>\n",
       "      <td>0.890098</td>\n",
       "      <td>4277</td>\n",
       "      <td>72.918093</td>\n",
       "      <td>0.596231</td>\n",
       "      <td>260.346</td>\n",
       "      <td>0.774227</td>\n",
       "      <td>2.194088</td>\n",
       "      <td>1</td>\n",
       "    </tr>\n",
       "    <tr>\n",
       "      <th>2</th>\n",
       "      <td>3</td>\n",
       "      <td>4555</td>\n",
       "      <td>114.427991</td>\n",
       "      <td>52.151207</td>\n",
       "      <td>0.890105</td>\n",
       "      <td>4706</td>\n",
       "      <td>76.155145</td>\n",
       "      <td>0.776641</td>\n",
       "      <td>279.606</td>\n",
       "      <td>0.732159</td>\n",
       "      <td>2.194158</td>\n",
       "      <td>1</td>\n",
       "    </tr>\n",
       "    <tr>\n",
       "      <th>3</th>\n",
       "      <td>4</td>\n",
       "      <td>4141</td>\n",
       "      <td>108.701191</td>\n",
       "      <td>49.457349</td>\n",
       "      <td>0.890499</td>\n",
       "      <td>4236</td>\n",
       "      <td>72.611879</td>\n",
       "      <td>0.633180</td>\n",
       "      <td>260.478</td>\n",
       "      <td>0.766960</td>\n",
       "      <td>2.197877</td>\n",
       "      <td>1</td>\n",
       "    </tr>\n",
       "    <tr>\n",
       "      <th>4</th>\n",
       "      <td>5</td>\n",
       "      <td>5273</td>\n",
       "      <td>122.747869</td>\n",
       "      <td>55.757848</td>\n",
       "      <td>0.890876</td>\n",
       "      <td>5431</td>\n",
       "      <td>81.937733</td>\n",
       "      <td>0.669842</td>\n",
       "      <td>302.730</td>\n",
       "      <td>0.723031</td>\n",
       "      <td>2.201446</td>\n",
       "      <td>1</td>\n",
       "    </tr>\n",
       "    <tr>\n",
       "      <th>...</th>\n",
       "      <td>...</td>\n",
       "      <td>...</td>\n",
       "      <td>...</td>\n",
       "      <td>...</td>\n",
       "      <td>...</td>\n",
       "      <td>...</td>\n",
       "      <td>...</td>\n",
       "      <td>...</td>\n",
       "      <td>...</td>\n",
       "      <td>...</td>\n",
       "      <td>...</td>\n",
       "      <td>...</td>\n",
       "    </tr>\n",
       "    <tr>\n",
       "      <th>495</th>\n",
       "      <td>496</td>\n",
       "      <td>5083</td>\n",
       "      <td>120.083450</td>\n",
       "      <td>54.821580</td>\n",
       "      <td>0.889709</td>\n",
       "      <td>5179</td>\n",
       "      <td>80.447975</td>\n",
       "      <td>0.534827</td>\n",
       "      <td>286.377</td>\n",
       "      <td>0.778850</td>\n",
       "      <td>2.190441</td>\n",
       "      <td>2</td>\n",
       "    </tr>\n",
       "    <tr>\n",
       "      <th>496</th>\n",
       "      <td>497</td>\n",
       "      <td>4432</td>\n",
       "      <td>112.367050</td>\n",
       "      <td>51.294914</td>\n",
       "      <td>0.889726</td>\n",
       "      <td>4550</td>\n",
       "      <td>75.119889</td>\n",
       "      <td>0.601194</td>\n",
       "      <td>270.823</td>\n",
       "      <td>0.759344</td>\n",
       "      <td>2.190608</td>\n",
       "      <td>2</td>\n",
       "    </tr>\n",
       "    <tr>\n",
       "      <th>497</th>\n",
       "      <td>498</td>\n",
       "      <td>5020</td>\n",
       "      <td>119.873742</td>\n",
       "      <td>54.718545</td>\n",
       "      <td>0.889740</td>\n",
       "      <td>5104</td>\n",
       "      <td>79.947874</td>\n",
       "      <td>0.528421</td>\n",
       "      <td>285.799</td>\n",
       "      <td>0.772311</td>\n",
       "      <td>2.190733</td>\n",
       "      <td>2</td>\n",
       "    </tr>\n",
       "    <tr>\n",
       "      <th>498</th>\n",
       "      <td>499</td>\n",
       "      <td>4035</td>\n",
       "      <td>107.311728</td>\n",
       "      <td>48.930802</td>\n",
       "      <td>0.889996</td>\n",
       "      <td>4150</td>\n",
       "      <td>71.676506</td>\n",
       "      <td>0.584698</td>\n",
       "      <td>258.503</td>\n",
       "      <td>0.758791</td>\n",
       "      <td>2.193132</td>\n",
       "      <td>2</td>\n",
       "    </tr>\n",
       "    <tr>\n",
       "      <th>499</th>\n",
       "      <td>500</td>\n",
       "      <td>3379</td>\n",
       "      <td>99.014789</td>\n",
       "      <td>44.631551</td>\n",
       "      <td>0.892647</td>\n",
       "      <td>3491</td>\n",
       "      <td>65.591741</td>\n",
       "      <td>0.653578</td>\n",
       "      <td>237.593</td>\n",
       "      <td>0.752196</td>\n",
       "      <td>2.218493</td>\n",
       "      <td>2</td>\n",
       "    </tr>\n",
       "  </tbody>\n",
       "</table>\n",
       "<p>500 rows × 12 columns</p>\n",
       "</div>"
      ],
      "text/plain": [
       "      0     1           2          3         4     5          6         7   \\\n",
       "0      1  5781  128.288875  58.470846  0.890095  5954  85.793926  0.674090   \n",
       "1      2  4176  109.348294  49.837688  0.890098  4277  72.918093  0.596231   \n",
       "2      3  4555  114.427991  52.151207  0.890105  4706  76.155145  0.776641   \n",
       "3      4  4141  108.701191  49.457349  0.890499  4236  72.611879  0.633180   \n",
       "4      5  5273  122.747869  55.757848  0.890876  5431  81.937733  0.669842   \n",
       "..   ...   ...         ...        ...       ...   ...        ...       ...   \n",
       "495  496  5083  120.083450  54.821580  0.889709  5179  80.447975  0.534827   \n",
       "496  497  4432  112.367050  51.294914  0.889726  4550  75.119889  0.601194   \n",
       "497  498  5020  119.873742  54.718545  0.889740  5104  79.947874  0.528421   \n",
       "498  499  4035  107.311728  48.930802  0.889996  4150  71.676506  0.584698   \n",
       "499  500  3379   99.014789  44.631551  0.892647  3491  65.591741  0.653578   \n",
       "\n",
       "          8         9         10  11  \n",
       "0    316.756  0.724041  2.194066   1  \n",
       "1    260.346  0.774227  2.194088   1  \n",
       "2    279.606  0.732159  2.194158   1  \n",
       "3    260.478  0.766960  2.197877   1  \n",
       "4    302.730  0.723031  2.201446   1  \n",
       "..       ...       ...       ...  ..  \n",
       "495  286.377  0.778850  2.190441   2  \n",
       "496  270.823  0.759344  2.190608   2  \n",
       "497  285.799  0.772311  2.190733   2  \n",
       "498  258.503  0.758791  2.193132   2  \n",
       "499  237.593  0.752196  2.218493   2  \n",
       "\n",
       "[500 rows x 12 columns]"
      ]
     },
     "execution_count": 1,
     "metadata": {},
     "output_type": "execute_result"
    }
   ],
   "source": [
    "import pandas as pd\n",
    "import seaborn as sns\n",
    "import matplotlib.pyplot as plt\n",
    "import numpy as np\n",
    "import scipy.stats as stats\n",
    "import math\n",
    "import random\n",
    "#import plotly.figure_factory as ff\n",
    "from scipy.stats import shapiro\n",
    "data_gandum = pd.read_csv(\"Gandum.csv\", header=None)\n",
    "data_gandum"
   ]
  },
  {
   "cell_type": "code",
   "execution_count": 6,
   "metadata": {},
   "outputs": [
    {
     "data": {
      "text/html": [
       "<div>\n",
       "<style scoped>\n",
       "    .dataframe tbody tr th:only-of-type {\n",
       "        vertical-align: middle;\n",
       "    }\n",
       "\n",
       "    .dataframe tbody tr th {\n",
       "        vertical-align: top;\n",
       "    }\n",
       "\n",
       "    .dataframe thead th {\n",
       "        text-align: right;\n",
       "    }\n",
       "</style>\n",
       "<table border=\"1\" class=\"dataframe\">\n",
       "  <thead>\n",
       "    <tr style=\"text-align: right;\">\n",
       "      <th></th>\n",
       "      <th>1</th>\n",
       "      <th>2</th>\n",
       "      <th>3</th>\n",
       "      <th>4</th>\n",
       "      <th>5</th>\n",
       "      <th>6</th>\n",
       "      <th>7</th>\n",
       "      <th>8</th>\n",
       "      <th>9</th>\n",
       "      <th>10</th>\n",
       "    </tr>\n",
       "  </thead>\n",
       "  <tbody>\n",
       "    <tr>\n",
       "      <th>count</th>\n",
       "      <td>500.000000</td>\n",
       "      <td>500.000000</td>\n",
       "      <td>500.000000</td>\n",
       "      <td>500.000000</td>\n",
       "      <td>500.000000</td>\n",
       "      <td>500.000000</td>\n",
       "      <td>500.000000</td>\n",
       "      <td>500.000000</td>\n",
       "      <td>500.000000</td>\n",
       "      <td>500.000000</td>\n",
       "    </tr>\n",
       "    <tr>\n",
       "      <th>mean</th>\n",
       "      <td>4801.246000</td>\n",
       "      <td>116.045171</td>\n",
       "      <td>53.715246</td>\n",
       "      <td>0.878764</td>\n",
       "      <td>4937.048000</td>\n",
       "      <td>77.771158</td>\n",
       "      <td>0.648372</td>\n",
       "      <td>281.479722</td>\n",
       "      <td>0.761737</td>\n",
       "      <td>2.150915</td>\n",
       "    </tr>\n",
       "    <tr>\n",
       "      <th>std</th>\n",
       "      <td>986.395491</td>\n",
       "      <td>18.282626</td>\n",
       "      <td>4.071075</td>\n",
       "      <td>0.036586</td>\n",
       "      <td>1011.696255</td>\n",
       "      <td>8.056867</td>\n",
       "      <td>0.094367</td>\n",
       "      <td>37.335402</td>\n",
       "      <td>0.061702</td>\n",
       "      <td>0.249767</td>\n",
       "    </tr>\n",
       "    <tr>\n",
       "      <th>min</th>\n",
       "      <td>2522.000000</td>\n",
       "      <td>74.133114</td>\n",
       "      <td>39.906517</td>\n",
       "      <td>0.719916</td>\n",
       "      <td>2579.000000</td>\n",
       "      <td>56.666658</td>\n",
       "      <td>0.409927</td>\n",
       "      <td>197.015000</td>\n",
       "      <td>0.174590</td>\n",
       "      <td>1.440796</td>\n",
       "    </tr>\n",
       "    <tr>\n",
       "      <th>25%</th>\n",
       "      <td>4042.750000</td>\n",
       "      <td>104.116098</td>\n",
       "      <td>51.193576</td>\n",
       "      <td>0.863676</td>\n",
       "      <td>4170.250000</td>\n",
       "      <td>71.745308</td>\n",
       "      <td>0.572632</td>\n",
       "      <td>255.883000</td>\n",
       "      <td>0.731991</td>\n",
       "      <td>1.983939</td>\n",
       "    </tr>\n",
       "    <tr>\n",
       "      <th>50%</th>\n",
       "      <td>4735.000000</td>\n",
       "      <td>115.405140</td>\n",
       "      <td>53.731199</td>\n",
       "      <td>0.890045</td>\n",
       "      <td>4857.000000</td>\n",
       "      <td>77.645277</td>\n",
       "      <td>0.626117</td>\n",
       "      <td>280.045500</td>\n",
       "      <td>0.761288</td>\n",
       "      <td>2.193599</td>\n",
       "    </tr>\n",
       "    <tr>\n",
       "      <th>75%</th>\n",
       "      <td>5495.500000</td>\n",
       "      <td>129.046792</td>\n",
       "      <td>56.325158</td>\n",
       "      <td>0.907578</td>\n",
       "      <td>5654.250000</td>\n",
       "      <td>83.648598</td>\n",
       "      <td>0.726633</td>\n",
       "      <td>306.062500</td>\n",
       "      <td>0.796361</td>\n",
       "      <td>2.381612</td>\n",
       "    </tr>\n",
       "    <tr>\n",
       "      <th>max</th>\n",
       "      <td>7453.000000</td>\n",
       "      <td>227.928583</td>\n",
       "      <td>68.977700</td>\n",
       "      <td>0.914001</td>\n",
       "      <td>7720.000000</td>\n",
       "      <td>97.413830</td>\n",
       "      <td>0.878899</td>\n",
       "      <td>488.837000</td>\n",
       "      <td>0.904748</td>\n",
       "      <td>2.464809</td>\n",
       "    </tr>\n",
       "  </tbody>\n",
       "</table>\n",
       "</div>"
      ],
      "text/plain": [
       "                1           2           3           4            5   \\\n",
       "count   500.000000  500.000000  500.000000  500.000000   500.000000   \n",
       "mean   4801.246000  116.045171   53.715246    0.878764  4937.048000   \n",
       "std     986.395491   18.282626    4.071075    0.036586  1011.696255   \n",
       "min    2522.000000   74.133114   39.906517    0.719916  2579.000000   \n",
       "25%    4042.750000  104.116098   51.193576    0.863676  4170.250000   \n",
       "50%    4735.000000  115.405140   53.731199    0.890045  4857.000000   \n",
       "75%    5495.500000  129.046792   56.325158    0.907578  5654.250000   \n",
       "max    7453.000000  227.928583   68.977700    0.914001  7720.000000   \n",
       "\n",
       "               6           7           8           9           10  \n",
       "count  500.000000  500.000000  500.000000  500.000000  500.000000  \n",
       "mean    77.771158    0.648372  281.479722    0.761737    2.150915  \n",
       "std      8.056867    0.094367   37.335402    0.061702    0.249767  \n",
       "min     56.666658    0.409927  197.015000    0.174590    1.440796  \n",
       "25%     71.745308    0.572632  255.883000    0.731991    1.983939  \n",
       "50%     77.645277    0.626117  280.045500    0.761288    2.193599  \n",
       "75%     83.648598    0.726633  306.062500    0.796361    2.381612  \n",
       "max     97.413830    0.878899  488.837000    0.904748    2.464809  "
      ]
     },
     "execution_count": 6,
     "metadata": {},
     "output_type": "execute_result"
    }
   ],
   "source": [
    "#-----------------NO. 1-----------------------\n",
    "#\n",
    "data_gandum[[1,2,3,4,5,6,7,8,9,10]].describe()"
   ]
  },
  {
   "cell_type": "code",
   "execution_count": 5,
   "metadata": {},
   "outputs": [
    {
     "data": {
      "text/plain": [
       "1     4735.000000\n",
       "2      115.405140\n",
       "3       53.731199\n",
       "4        0.890045\n",
       "5     4857.000000\n",
       "6       77.645277\n",
       "7        0.626117\n",
       "8      280.045500\n",
       "9        0.761288\n",
       "10       2.193599\n",
       "dtype: float64"
      ]
     },
     "execution_count": 5,
     "metadata": {},
     "output_type": "execute_result"
    }
   ],
   "source": [
    "#Median\n",
    "data_gandum[[1,2,3,4,5,6,7,8,9,10]].median()"
   ]
  },
  {
   "cell_type": "code",
   "execution_count": 7,
   "metadata": {},
   "outputs": [
    {
     "data": {
      "text/plain": [
       "1     9.729761e+05\n",
       "2     3.342544e+02\n",
       "3     1.657365e+01\n",
       "4     1.338528e-03\n",
       "5     1.023529e+06\n",
       "6     6.491311e+01\n",
       "7     8.905149e-03\n",
       "8     1.393932e+03\n",
       "9     3.807194e-03\n",
       "10    6.238350e-02\n",
       "dtype: float64"
      ]
     },
     "execution_count": 7,
     "metadata": {},
     "output_type": "execute_result"
    }
   ],
   "source": [
    "#Variansi\n",
    "data_gandum[[1,2,3,4,5,6,7,8,9,10]].var()"
   ]
  },
  {
   "cell_type": "code",
   "execution_count": 8,
   "metadata": {},
   "outputs": [
    {
     "data": {
      "text/plain": [
       "1     0.238144\n",
       "2     0.761529\n",
       "3    -0.010828\n",
       "4    -1.623472\n",
       "5     0.257560\n",
       "6     0.002725\n",
       "7     0.493661\n",
       "8     0.733627\n",
       "9    -3.599237\n",
       "10   -0.658188\n",
       "dtype: float64"
      ]
     },
     "execution_count": 8,
     "metadata": {},
     "output_type": "execute_result"
    }
   ],
   "source": [
    "data_gandum[[1,2,3,4,5,6,7,8,9,10]].skew()"
   ]
  },
  {
   "cell_type": "code",
   "execution_count": 9,
   "metadata": {},
   "outputs": [
    {
     "data": {
      "text/plain": [
       "1     -0.434631\n",
       "2      4.330534\n",
       "3      0.475568\n",
       "4      2.917256\n",
       "5     -0.409685\n",
       "6     -0.466455\n",
       "7     -0.740326\n",
       "8      2.272685\n",
       "9     29.975096\n",
       "10    -0.428656\n",
       "dtype: float64"
      ]
     },
     "execution_count": 9,
     "metadata": {},
     "output_type": "execute_result"
    }
   ],
   "source": [
    "data_gandum[[1,2,3,4,5,6,7,8,9,10]].kurtosis()"
   ]
  },
  {
   "cell_type": "code",
   "execution_count": 10,
   "metadata": {},
   "outputs": [
    {
     "name": "stdout",
     "output_type": "stream",
     "text": [
      "IQR Kolom 1 : 1452.75\n",
      "IQR Kolom 2 : 24.93069385000001\n",
      "IQR Kolom 3 : 5.131581650000001\n",
      "IQR Kolom 4 : 0.04390216424999993\n",
      "IQR Kolom 5 : 1484.0\n",
      "IQR Kolom 6 : 11.903290020000014\n",
      "IQR Kolom 7 : 0.15400088725000005\n",
      "IQR Kolom 8 : 50.17950000000002\n",
      "IQR Kolom 9 : 0.06437024175000006\n",
      "IQR Kolom 10 : 0.3976734275\n"
     ]
    }
   ],
   "source": [
    "#IQR\n",
    "for i in range(10):\n",
    "    Q3 = np.quantile(data_gandum[i+1],0.75)\n",
    "    Q1 = np.quantile(data_gandum[i+1],0.25)\n",
    "    print(\"IQR Kolom \" + str(i+1) + \" : \" +str(Q3-Q1))"
   ]
  },
  {
   "cell_type": "code",
   "execution_count": 19,
   "metadata": {},
   "outputs": [
    {
     "data": {
      "text/plain": [
       "<matplotlib.axes._subplots.AxesSubplot at 0x190b6b2dc48>"
      ]
     },
     "execution_count": 19,
     "metadata": {},
     "output_type": "execute_result"
    },
    {
     "data": {
      "image/png": "[encoded data removed]",
      "text/plain": [
       "<Figure size 576x576 with 1 Axes>"
      ]
     },
     "metadata": {
      "needs_background": "light"
     },
     "output_type": "display_data"
    }
   ],
   "source": [
    "#-----------------NO. 2 dan NO. 3-----------------------\n",
    "#Kolom Daerah (2)\n",
    "plt.rcParams[\"figure.figsize\"] = (8, 8)\n",
    "data_gandum.boxplot(column=[1])"
   ]
  },
  {
   "cell_type": "code",
   "execution_count": 16,
   "metadata": {},
   "outputs": [
    {
     "name": "stdout",
     "output_type": "stream",
     "text": [
      "Data tidak terdistribusi normal\n"
     ]
    },
    {
     "data": {
      "image/png": "[encoded data removed]",
      "text/plain": [
       "<Figure size 576x576 with 1 Axes>"
      ]
     },
     "metadata": {
      "needs_background": "light"
     },
     "output_type": "display_data"
    }
   ],
   "source": [
    "# plt.rcParams[\"figure.figsize\"] = (18, 8)\n",
    "# data_gandum[1].plot(kind='hist',ec='black',bins=100)\n",
    "\n",
    "_, bins, _ = plt.hist(data_gandum[1],100,density=1,alpha=0.5,ec=\"black\")\n",
    "mu, sigma = stats.norm.fit(data_gandum[1])\n",
    "best_fit_line = stats.norm.pdf(bins, mu, sigma)\n",
    "plt.plot(bins, best_fit_line,color='black')\n",
    "\n",
    "# Menggunakan metode Shapiro-Wilk Test\n",
    "dummy, p = shapiro(data_gandum[1])\n",
    "\n",
    "# interpret\n",
    "alpha = 0.05\n",
    "if p > alpha:\n",
    "    print('Data terdistribusi normal')\n",
    "else:\n",
    "    print('Data tidak terdistribusi normal')"
   ]
  },
  {
   "cell_type": "code",
   "execution_count": 21,
   "metadata": {
    "scrolled": true
   },
   "outputs": [
    {
     "data": {
      "text/plain": [
       "<matplotlib.axes._subplots.AxesSubplot at 0x190b6b7be08>"
      ]
     },
     "execution_count": 21,
     "metadata": {},
     "output_type": "execute_result"
    },
    {
     "data": {
      "image/png": "[encoded data removed]",
      "text/plain": [
       "<Figure size 576x576 with 1 Axes>"
      ]
     },
     "metadata": {
      "needs_background": "light"
     },
     "output_type": "display_data"
    }
   ],
   "source": [
    "#Kolom SumbuUtama (3)\n",
    "data_gandum.boxplot(column=[2])"
   ]
  },
  {
   "cell_type": "code",
   "execution_count": 23,
   "metadata": {},
   "outputs": [
    {
     "name": "stdout",
     "output_type": "stream",
     "text": [
      "Data tidak terdistribusi normal\n"
     ]
    },
    {
     "data": {
      "image/png": "[encoded data removed]",
      "text/plain": [
       "<Figure size 576x576 with 1 Axes>"
      ]
     },
     "metadata": {
      "needs_background": "light"
     },
     "output_type": "display_data"
    }
   ],
   "source": [
    "# plt.rcParams[\"figure.figsize\"] = (18, 8)\n",
    "# data_gandum[2].plot(kind='hist',ec='black',bins=100)\n",
    "\n",
    "_, bins, _ = plt.hist(data_gandum[2],100,density=1,alpha=0.5,ec=\"black\")\n",
    "mu, sigma = stats.norm.fit(data_gandum[2])\n",
    "best_fit_line = stats.norm.pdf(bins, mu, sigma)\n",
    "plt.plot(bins, best_fit_line,color='black')\n",
    "\n",
    "# Menggunakan metode Shapiro-Wilk Test\n",
    "dummy, p = shapiro(data_gandum[2])\n",
    "\n",
    "# interpret\n",
    "alpha = 0.05\n",
    "if p > alpha:\n",
    "    print('Data terdistribusi normal')\n",
    "else:\n",
    "    print('Data tidak terdistribusi normal')"
   ]
  },
  {
   "cell_type": "code",
   "execution_count": 24,
   "metadata": {},
   "outputs": [
    {
     "data": {
      "text/plain": [
       "<matplotlib.axes._subplots.AxesSubplot at 0x190b71c3b08>"
      ]
     },
     "execution_count": 24,
     "metadata": {},
     "output_type": "execute_result"
    },
    {
     "data": {
      "image/png": "[encoded data removed]",
      "text/plain": [
       "<Figure size 576x576 with 1 Axes>"
      ]
     },
     "metadata": {
      "needs_background": "light"
     },
     "output_type": "display_data"
    }
   ],
   "source": [
    "#Kolom SumbuKecil (4)\n",
    "data_gandum.boxplot(column=[3])"
   ]
  },
  {
   "cell_type": "code",
   "execution_count": 27,
   "metadata": {},
   "outputs": [
    {
     "name": "stdout",
     "output_type": "stream",
     "text": [
      "Data terdistribusi normal\n"
     ]
    },
    {
     "data": {
      "image/png": "[encoded data removed]",
      "text/plain": [
       "<Figure size 576x576 with 1 Axes>"
      ]
     },
     "metadata": {
      "needs_background": "light"
     },
     "output_type": "display_data"
    }
   ],
   "source": [
    "# plt.rcParams[\"figure.figsize\"] = (18, 8)\n",
    "# data_gandum[3].plot(kind='hist',ec='black',bins=100)\n",
    "\n",
    "_, bins, _ = plt.hist(data_gandum[3],100,density=1,alpha=0.5,ec=\"black\")\n",
    "mu, sigma = stats.norm.fit(data_gandum[3])\n",
    "best_fit_line = stats.norm.pdf(bins, mu, sigma)\n",
    "plt.plot(bins, best_fit_line,color='black')\n",
    "\n",
    "# Menggunakan metode Shapiro-Wilk Test\n",
    "dummy, p = shapiro(data_gandum[3])\n",
    "\n",
    "# interpret\n",
    "alpha = 0.05\n",
    "if p > alpha:\n",
    "    print('Data terdistribusi normal')\n",
    "else:\n",
    "    print('Data tidak terdistribusi normal')"
   ]
  },
  {
   "cell_type": "code",
   "execution_count": 28,
   "metadata": {},
   "outputs": [
    {
     "data": {
      "text/plain": [
       "<matplotlib.axes._subplots.AxesSubplot at 0x190b70cc908>"
      ]
     },
     "execution_count": 28,
     "metadata": {},
     "output_type": "execute_result"
    },
    {
     "data": {
      "image/png": "[encoded data removed]",
      "text/plain": [
       "<Figure size 576x576 with 1 Axes>"
      ]
     },
     "metadata": {
      "needs_background": "light"
     },
     "output_type": "display_data"
    }
   ],
   "source": [
    "#Kolom Keunikan (5)\n",
    "data_gandum.boxplot(column=[4])"
   ]
  },
  {
   "cell_type": "code",
   "execution_count": 29,
   "metadata": {},
   "outputs": [
    {
     "name": "stdout",
     "output_type": "stream",
     "text": [
      "Data tidak terdistribusi normal\n"
     ]
    },
    {
     "data": {
      "image/png": "[encoded data removed]",
      "text/plain": [
       "<Figure size 576x576 with 1 Axes>"
      ]
     },
     "metadata": {
      "needs_background": "light"
     },
     "output_type": "display_data"
    }
   ],
   "source": [
    "# plt.rcParams[\"figure.figsize\"] = (18, 8)\n",
    "# data_gandum[4].plot(kind='hist',ec='black',bins=100)\n",
    "\n",
    "_, bins, _ = plt.hist(data_gandum[4],100,density=1,alpha=0.5,ec=\"black\")\n",
    "mu, sigma = stats.norm.fit(data_gandum[4])\n",
    "best_fit_line = stats.norm.pdf(bins, mu, sigma)\n",
    "plt.plot(bins, best_fit_line,color='black')\n",
    "\n",
    "# Menggunakan metode Shapiro-Wilk Test\n",
    "dummy, p = shapiro(data_gandum[4])\n",
    "\n",
    "# interpret\n",
    "alpha = 0.05\n",
    "if p > alpha:\n",
    "    print('Data terdistribusi normal')\n",
    "else:\n",
    "    print('Data tidak terdistribusi normal')"
   ]
  },
  {
   "cell_type": "code",
   "execution_count": 30,
   "metadata": {},
   "outputs": [
    {
     "data": {
      "text/plain": [
       "<matplotlib.axes._subplots.AxesSubplot at 0x190b72e8148>"
      ]
     },
     "execution_count": 30,
     "metadata": {},
     "output_type": "execute_result"
    },
    {
     "data": {
      "image/png": "[encoded data removed]",
      "text/plain": [
       "<Figure size 576x576 with 1 Axes>"
      ]
     },
     "metadata": {
      "needs_background": "light"
     },
     "output_type": "display_data"
    }
   ],
   "source": [
    "#Kolom AreaBulatan (6)\n",
    "data_gandum.boxplot(column=[5])"
   ]
  },
  {
   "cell_type": "code",
   "execution_count": 31,
   "metadata": {},
   "outputs": [
    {
     "name": "stdout",
     "output_type": "stream",
     "text": [
      "Data tidak terdistribusi normal\n"
     ]
    },
    {
     "data": {
      "image/png": "[encoded data removed]",
      "text/plain": [
       "<Figure size 576x576 with 1 Axes>"
      ]
     },
     "metadata": {
      "needs_background": "light"
     },
     "output_type": "display_data"
    }
   ],
   "source": [
    "# plt.rcParams[\"figure.figsize\"] = (18, 8)\n",
    "# data_gandum[5].plot(kind='hist',ec='black',bins=100)\n",
    "\n",
    "_, bins, _ = plt.hist(data_gandum[5],100,density=1,alpha=0.5,ec=\"black\")\n",
    "mu, sigma = stats.norm.fit(data_gandum[5])\n",
    "best_fit_line = stats.norm.pdf(bins, mu, sigma)\n",
    "plt.plot(bins, best_fit_line,color='black')\n",
    "\n",
    "# Menggunakan metode Shapiro-Wilk Test\n",
    "dummy, p = shapiro(data_gandum[5])\n",
    "\n",
    "# interpret\n",
    "alpha = 0.05\n",
    "if p > alpha:\n",
    "    print('Data terdistribusi normal')\n",
    "else:\n",
    "    print('Data tidak terdistribusi normal')"
   ]
  },
  {
   "cell_type": "code",
   "execution_count": 32,
   "metadata": {},
   "outputs": [
    {
     "data": {
      "text/plain": [
       "<matplotlib.axes._subplots.AxesSubplot at 0x190b6cd2748>"
      ]
     },
     "execution_count": 32,
     "metadata": {},
     "output_type": "execute_result"
    },
    {
     "data": {
      "image/png": "[encoded data removed]",
      "text/plain": [
       "<Figure size 576x576 with 1 Axes>"
      ]
     },
     "metadata": {
      "needs_background": "light"
     },
     "output_type": "display_data"
    }
   ],
   "source": [
    "#Kolom Diameter (7)\n",
    "data_gandum.boxplot(column=[6])"
   ]
  },
  {
   "cell_type": "code",
   "execution_count": 33,
   "metadata": {},
   "outputs": [
    {
     "name": "stdout",
     "output_type": "stream",
     "text": [
      "Data terdistribusi normal\n"
     ]
    },
    {
     "data": {
      "image/png": "[encoded data removed]",
      "text/plain": [
       "<Figure size 576x576 with 1 Axes>"
      ]
     },
     "metadata": {
      "needs_background": "light"
     },
     "output_type": "display_data"
    }
   ],
   "source": [
    "# plt.rcParams[\"figure.figsize\"] = (18, 8)\n",
    "# data_gandum[6].plot(kind='hist',ec='black',bins=100)\n",
    "\n",
    "_, bins, _ = plt.hist(data_gandum[6],100,density=1,alpha=0.5,ec=\"black\")\n",
    "mu, sigma = stats.norm.fit(data_gandum[6])\n",
    "best_fit_line = stats.norm.pdf(bins, mu, sigma)\n",
    "plt.plot(bins, best_fit_line,color='black')\n",
    "\n",
    "# Menggunakan metode Shapiro-Wilk Test\n",
    "dummy, p = shapiro(data_gandum[6])\n",
    "\n",
    "# interpret\n",
    "alpha = 0.05\n",
    "if p > alpha:\n",
    "    print('Data terdistribusi normal')\n",
    "else:\n",
    "    print('Data tidak terdistribusi normal')"
   ]
  },
  {
   "cell_type": "code",
   "execution_count": 34,
   "metadata": {},
   "outputs": [
    {
     "data": {
      "text/plain": [
       "<matplotlib.axes._subplots.AxesSubplot at 0x190b6f51888>"
      ]
     },
     "execution_count": 34,
     "metadata": {},
     "output_type": "execute_result"
    },
    {
     "data": {
      "image/png": "[encoded data removed]",
      "text/plain": [
       "<Figure size 576x576 with 1 Axes>"
      ]
     },
     "metadata": {
      "needs_background": "light"
     },
     "output_type": "display_data"
    }
   ],
   "source": [
    "#Kolom KadarAir (8)\n",
    "data_gandum.boxplot(column=[7])"
   ]
  },
  {
   "cell_type": "code",
   "execution_count": 35,
   "metadata": {},
   "outputs": [
    {
     "name": "stdout",
     "output_type": "stream",
     "text": [
      "Data tidak terdistribusi normal\n"
     ]
    },
    {
     "data": {
      "image/png": "[encoded data removed]",
      "text/plain": [
       "<Figure size 576x576 with 1 Axes>"
      ]
     },
     "metadata": {
      "needs_background": "light"
     },
     "output_type": "display_data"
    }
   ],
   "source": [
    "_, bins, _ = plt.hist(data_gandum[7],100,density=1,alpha=0.5,ec=\"black\")\n",
    "mu, sigma = stats.norm.fit(data_gandum[7])\n",
    "best_fit_line = stats.norm.pdf(bins, mu, sigma)\n",
    "plt.plot(bins, best_fit_line,color='black')\n",
    "\n",
    "# Menggunakan metode Shapiro-Wilk Test\n",
    "dummy, p = shapiro(data_gandum[7])\n",
    "\n",
    "# interpret\n",
    "alpha = 0.05\n",
    "if p > alpha:\n",
    "    print('Data terdistribusi normal')\n",
    "else:\n",
    "    print('Data tidak terdistribusi normal')\n",
    "    \n",
    "# plt.rcParams[\"figure.figsize\"] = (18, 8)\n",
    "# data_gandum[7].plot(kind='hist',ec='black',bins=100)\n",
    "\n",
    "# sns.distplot(data_gandum[1], hist=True, kde=True,\n",
    "#             bins=100, color='blue',\n",
    "#             hist_kws={'edgecolor':'black'},\n",
    "#             kde_kws={'linewidth':4})"
   ]
  },
  {
   "cell_type": "code",
   "execution_count": 36,
   "metadata": {},
   "outputs": [
    {
     "data": {
      "text/plain": [
       "<matplotlib.axes._subplots.AxesSubplot at 0x190b6cff188>"
      ]
     },
     "execution_count": 36,
     "metadata": {},
     "output_type": "execute_result"
    },
    {
     "data": {
      "image/png": "[encoded data removed]",
      "text/plain": [
       "<Figure size 576x576 with 1 Axes>"
      ]
     },
     "metadata": {
      "needs_background": "light"
     },
     "output_type": "display_data"
    }
   ],
   "source": [
    "#Kolom Keliling (9)\n",
    "data_gandum.boxplot(column=[8])"
   ]
  },
  {
   "cell_type": "code",
   "execution_count": 37,
   "metadata": {},
   "outputs": [
    {
     "name": "stdout",
     "output_type": "stream",
     "text": [
      "Data tidak terdistribusi normal\n"
     ]
    },
    {
     "data": {
      "image/png": "[encoded data removed]",
      "text/plain": [
       "<Figure size 576x576 with 1 Axes>"
      ]
     },
     "metadata": {
      "needs_background": "light"
     },
     "output_type": "display_data"
    }
   ],
   "source": [
    "_, bins, _ = plt.hist(data_gandum[8],100,density=1,alpha=0.5,ec=\"black\")\n",
    "mu, sigma = stats.norm.fit(data_gandum[8])\n",
    "best_fit_line = stats.norm.pdf(bins, mu, sigma)\n",
    "plt.plot(bins, best_fit_line,color='black')\n",
    "\n",
    "# Menggunakan metode Shapiro-Wilk Test\n",
    "dummy, p = shapiro(data_gandum[8])\n",
    "\n",
    "# interpret\n",
    "alpha = 0.05\n",
    "if p > alpha:\n",
    "    print('Data terdistribusi normal')\n",
    "else:\n",
    "    print('Data tidak terdistribusi normal')\n",
    "\n",
    "# plt.rcParams[\"figure.figsize\"] = (18, 8)\n",
    "# data_gandum[8].plot(kind='hist',ec='black',bins=100)"
   ]
  },
  {
   "cell_type": "code",
   "execution_count": 38,
   "metadata": {},
   "outputs": [
    {
     "data": {
      "text/plain": [
       "<matplotlib.axes._subplots.AxesSubplot at 0x190b86067c8>"
      ]
     },
     "execution_count": 38,
     "metadata": {},
     "output_type": "execute_result"
    },
    {
     "data": {
      "image/png": "[encoded data removed]",
      "text/plain": [
       "<Figure size 576x576 with 1 Axes>"
      ]
     },
     "metadata": {
      "needs_background": "light"
     },
     "output_type": "display_data"
    }
   ],
   "source": [
    "#Kolom Bulatan (10)\n",
    "data_gandum.boxplot(column=[9])"
   ]
  },
  {
   "cell_type": "code",
   "execution_count": 39,
   "metadata": {},
   "outputs": [
    {
     "name": "stdout",
     "output_type": "stream",
     "text": [
      "Data tidak terdistribusi normal\n"
     ]
    },
    {
     "data": {
      "image/png": "[encoded data removed]",
      "text/plain": [
       "<Figure size 576x576 with 1 Axes>"
      ]
     },
     "metadata": {
      "needs_background": "light"
     },
     "output_type": "display_data"
    }
   ],
   "source": [
    "_, bins, _ = plt.hist(data_gandum[9],100,density=1,alpha=0.5,ec=\"black\")\n",
    "mu, sigma = stats.norm.fit(data_gandum[9])\n",
    "best_fit_line = stats.norm.pdf(bins, mu, sigma)\n",
    "plt.plot(bins, best_fit_line,color='black')\n",
    "\n",
    "# plt.rcParams[\"figure.figsize\"] = (18, 8)\n",
    "# data_gandum[9].plot(kind='hist',ec='black',bins=100)\n",
    "\n",
    "# Menggunakan metode Shapiro-Wilk Test\n",
    "dummy, p = shapiro(data_gandum[9])\n",
    "\n",
    "# interpret\n",
    "alpha = 0.05\n",
    "if p > alpha:\n",
    "    print('Data terdistribusi normal')\n",
    "else:\n",
    "    print('Data tidak terdistribusi normal')"
   ]
  },
  {
   "cell_type": "code",
   "execution_count": 40,
   "metadata": {},
   "outputs": [
    {
     "data": {
      "text/plain": [
       "<matplotlib.axes._subplots.AxesSubplot at 0x190b6a4ebc8>"
      ]
     },
     "execution_count": 40,
     "metadata": {},
     "output_type": "execute_result"
    },
    {
     "data": {
      "image/png": "[encoded data removed]",
      "text/plain": [
       "<Figure size 576x576 with 1 Axes>"
      ]
     },
     "metadata": {
      "needs_background": "light"
     },
     "output_type": "display_data"
    }
   ],
   "source": [
    "#Kolom Ransum (11)\n",
    "data_gandum.boxplot(column=[10])"
   ]
  },
  {
   "cell_type": "code",
   "execution_count": 41,
   "metadata": {},
   "outputs": [
    {
     "name": "stdout",
     "output_type": "stream",
     "text": [
      "Data tidak terdistribusi normal\n"
     ]
    },
    {
     "data": {
      "image/png": "[encoded data removed]",
      "text/plain": [
       "<Figure size 576x576 with 1 Axes>"
      ]
     },
     "metadata": {
      "needs_background": "light"
     },
     "output_type": "display_data"
    }
   ],
   "source": [
    "_, bins, _ = plt.hist(data_gandum[10],100,density=1,alpha=0.5,ec=\"black\")\n",
    "mu, sigma = stats.norm.fit(data_gandum[10])\n",
    "best_fit_line = stats.norm.pdf(bins, mu, sigma)\n",
    "plt.plot(bins, best_fit_line,color='black')\n",
    "\n",
    "# Menggunakan metode Shapiro-Wilk Test\n",
    "dummy, p = shapiro(data_gandum[10])\n",
    "\n",
    "# interpret\n",
    "alpha = 0.05\n",
    "if p > alpha:\n",
    "    print('Data terdistribusi normal')\n",
    "else:\n",
    "    print('Data tidak terdistribusi normal')\n",
    "\n",
    "# plt.rcParams[\"figure.figsize\"] = (18, 8)\n",
    "# data_gandum[10].plot(kind='hist',ec='black',bins=100)"
   ]
  },
  {
   "cell_type": "code",
   "execution_count": 10,
   "metadata": {},
   "outputs": [
    {
     "name": "stdout",
     "output_type": "stream",
     "text": [
      "0.01539999999999997\n"
     ]
    }
   ],
   "source": [
    "# ------------- No. 4 ------------\n",
    "# 4.a Nilai rata-rata Daerah di atas 4700?\n",
    "# 1)\n",
    "# H0: miu0 = 4700\n",
    "\n",
    "# 2)\n",
    "# H1: miu1 > 4700\n",
    "\n",
    "# 3)\n",
    "# alpha: 0.05\n",
    "\n",
    "# 4)\n",
    "\n",
    "# sample\n",
    "# sampleD = random.sample(data_gandum[1].values.tolist(),30)\n",
    "sampleD = [4879, 5077, 6275, 3638, 6745, 4371, 4770, 3987, 5250, 4577, 5994, 5985, 5576, 6676, 4657, 3335, 4684, 4493, 5463, 5020, 3265, 5301, 6082, 3735, 6067, 6785, 5056, 5331, 4893, 4738]\n",
    "n = len(sampleD) #jumlah data\n",
    "miu0 = 4700\n",
    "\n",
    "# Jumlah data > 85 didapatkan 10 dari fungsi dibawah ini\n",
    "count = 0\n",
    "for i in range(n):\n",
    "    count += sampleD[i]\n",
    "xbar = count/n\n",
    "\n",
    "# nilai Z\n",
    "z = ((xbar)-(miu0))/math.sqrt(data_gandum[1].var()/n)\n",
    "# pvalue = P(Z > 2.166505082043134) = 1 - 0.9846\n",
    "print(1-0.9846)\n",
    "# karena pvalue = 0.01539999999999997 < alpha = 0.05, maka benar untuk menolak\n",
    "\n",
    "# Z0.05 = 1.65"
   ]
  },
  {
   "cell_type": "code",
   "execution_count": 19,
   "metadata": {},
   "outputs": [
    {
     "name": "stdout",
     "output_type": "stream",
     "text": [
      "54.887276260499995\n",
      "Data terdistribusi normal\n",
      "1.433163437043158\n"
     ]
    }
   ],
   "source": [
    "# 4.c Nilai rata-rata 20 baris pertama kolom Sumbu Kecil bukan 50?\n",
    "# 1)\n",
    "# H0: miu0 = 50\n",
    "\n",
    "# 2)\n",
    "# H1: miu0 != 50\n",
    "\n",
    "# 3)\n",
    "# alpha: 0.05\n",
    "\n",
    "# 4)\n",
    "# Uji statistik dilakukan dengan distribusi normal. Daerah kritis z dengan alpha: 0.05 adalah  z< -1.96 atau z > 1.96\n",
    "\n",
    "# 5)\n",
    "# menghitung\n",
    "# Hitung miu dari 20 data teratas dari Sumbu Kecil\n",
    "list20 = []\n",
    "sum20 = 0\n",
    "for i in range(20):\n",
    "    sum20 = data_gandum[3][i]+sum20\n",
    "    list20.append(data_gandum[3][i])\n",
    "miuPop = sum20/20\n",
    "\n",
    "# Menggunakan metode Shapiro-Wilk Test kita tes terlebih dahulu apakah data terdistribusi normal atau tidak\n",
    "dummy, p = shapiro(list20)\n",
    "\n",
    "# interpret\n",
    "alpha = 0.05\n",
    "if p > alpha:\n",
    "    print('Data terdistribusi normal')\n",
    "else:\n",
    "    print('Data tidak terdistribusi normal')\n",
    "\n",
    "# Hitung std dari 20 data teratas dari Sumbu Kecil\n",
    "pembilang = 0\n",
    "for i in range(20):\n",
    "    pembilang = pembilang + (list20[i] - miuPop)**2\n",
    "std = math.sqrt(pembilang/20)\n",
    "\n",
    "# Random generate sampel sebanyak 5\n",
    "# menggunakan fungsi sampleD = random.sample(list20,5)\n",
    "sampleD = [57.23821435, 61.31214783, 57.61755431, 56.655596499999994, 52.15120679]\n",
    "\n",
    "# Menghitung xbar\n",
    "sumSample = 0\n",
    "for i in range(5):\n",
    "    sumSample = sumSample + sampleD[i]\n",
    "xbar = sumSample/5\n",
    "\n",
    "# Menghitung z\n",
    "z = (xbar - miuPop) / (std/math.sqrt(5))\n",
    "print(z)\n",
    "    \n",
    "# 6)\n",
    "# check z in critical region\n",
    "# z = 1.433163437043158\n",
    "# H0 tidak ditolak karena z tidak berada di daerah kritis (1.433163437043158 < 1.96)\n",
    "\n",
    "# kesimpulan:\n",
    "# Nilai rata-rata dari 20 data teratas Sumbu Kecil bukan 50 ADALAH SALAH"
   ]
  },
  {
   "cell_type": "code",
   "execution_count": 132,
   "metadata": {},
   "outputs": [],
   "source": [
    "# 4.d Proporsi nilai Diameter yang lebih dari 85, adalah tidak sama dengan 15% ?\n",
    "\n",
    "# 1)\n",
    "# H0: p = 15%\n",
    "\n",
    "# 2)\n",
    "# H1: p != 15%\n",
    "\n",
    "# 3)\n",
    "# alpha: 0.05\n",
    "\n",
    "# 4)\n",
    "# Uji statistik dilakukan dengan distribusi normal. Daerah kritis z dengan alpha: 0.05 adalah  z< -1.96 atau z > 1.96\n",
    "\n",
    "# 5)\n",
    "# Menghitung\n",
    "# Generate sampel sebanyak 30\n",
    "# data sample diperoleh dari fungsi : sampleD = random.sample(data_gandum[6].values.tolist(),30)\n",
    "sampleD = [88.00634154, 80.47171133, 84.45524217, 78.76862511, 68.27393334, 77.72722586, 75.45811583, 64.13919994, 78.83325579, 84.75622403, 79.26813454, 92.94584612, 88.93460548, 78.83325579, 90.58713411, 77.24247864, 89.40580441, 66.44036049, 76.81270761, 85.71969093, 97.41383027, 72.48024808, 84.06992752, 85.88292428, 67.28773901, 88.36729105, 75.7444215, 74.88222055, 64.59416373, 90.09385161]\n",
    "n = len(sampleD) #jumlah data\n",
    "p0 = 0.15        #proporsi p0\n",
    "\n",
    "# Jumlah data > 85 didapatkan 10 dari fungsi dibawah ini\n",
    "count = 0\n",
    "for i in range(30):\n",
    "    if sampleD[i] > 85:\n",
    "        count += 1\n",
    "    \n",
    "# nilai Z\n",
    "z = ((count/n)-(p0))/math.sqrt(p0*(1-p0)/n)\n",
    "\n",
    "# 6)\n",
    "# check z in critical region\n",
    "# z = 2.8122049591070244\n",
    "# H0 ditolak karena z berada di daerah kritis (2.8122049591070244 > 1.96)\n",
    "# H1 diterima\n",
    "\n",
    "# kesimpulan:\n",
    "# Proporsi nilai diameter > 85 tidak sama dengan 15% itu benar"
   ]
  },
  {
   "cell_type": "code",
   "execution_count": 8,
   "metadata": {},
   "outputs": [
    {
     "name": "stdout",
     "output_type": "stream",
     "text": [
      "-1.6222142113076254\n"
     ]
    }
   ],
   "source": [
    "# 4.e Proporsi nilai Keliling yang kurang dari 100, adalah kurang dari 5% ?\n",
    "\n",
    "# Mengambil sample dari fungsi random.sample(data_gandum[8].values.tolist(),50)\n",
    "sampleR = [227.007, 309.718, 290.143, 210.657, 321.246, 330.709, 312.89799999999997, 316.683, 275.478, 224.485, 241.24, 269.387, 343.70599999999996, 302.164, 295.728, 303.999, 265.778, 274.231, 288.27299999999997, 333.722, 274.262, 311.235, 285.184, 322.29900000000004, 291.454, 331.296, 242.06400000000002, 301.307, 331.417, 209.82299999999998, 223.11700000000002, 243.983, 348.74, 292.789, 263.0, 299.08299999999997, 322.853, 260.959, 314.656, 273.085, 226.454, 269.153, 301.902, 294.789, 315.483, 254.699, 271.228, 390.125, 235.80700000000002, 264.342]\n",
    "n = len(sampleR)\n",
    "\n",
    "# sampleR = random.sample(data_gandum[8].values.tolist(),50)\n",
    "# print(sampleR)\n",
    "\n",
    "#1. H0: P = 5%\n",
    "\n",
    "#2. H1: P < 5%\n",
    "\n",
    "#3. alpha = 0.05\n",
    "\n",
    "#4. Uji statistik yang digunakan tes proporsi binomial didekati dengan normal. Dengan teorema limit pusat, populasi dianggap terdistribusi normal dengan n yang besar.\n",
    "#   Dengan daerah kritisnya Z < Z0.05. Z < -1.645 \n",
    "\n",
    "# #5. Komputasi\n",
    "# menghitung proporsi obsrvasi\n",
    "countUnder100 = 0\n",
    "for val in sampleR:\n",
    "    if (val<100):\n",
    "        countUnder100 += 1\n",
    "pObs = countUnder100 / n\n",
    "# print(countUnder100)\n",
    "\n",
    "# menghitung z\n",
    "z = (pObs - 0.05) / math.sqrt(0.95*0.05/n)\n",
    "print(z)\n",
    "\n",
    "#6. Keputusan\n",
    "#Dengan z tidak berada di daerah kritis z = -1.6222142113076254 > -1.645 maka dapat diputuskan menolak H0. P-Value dari tes ini adalah\n",
    "#P(Z<-1.6222142113076254) = 0.0526 dimana nilai P-Value tersebut lebih besar dari alpha sehingga kita tidak bisa menolak H0\n",
    "\n",
    "#KESIMPULAN\n",
    "# proporsi nilai Keliling kurang dari 100% adalah 5% ADALAH BENAR"
   ]
  },
  {
   "cell_type": "code",
   "execution_count": 119,
   "metadata": {},
   "outputs": [],
   "source": [
    "# INI REFERENSI STATISTIK\n",
    "# contoh syntax sample\n",
    "# sample = random.sample(data_gandum[6].values.tolist(),20)\n",
    "\n",
    "# INI REFERENSI NORMALITY TEST\n",
    "\n",
    "# stat, p = shapiro(data_gandum[4])\n",
    "\n",
    "# # interpret\n",
    "# alpha = 0.05\n",
    "# if p > alpha:\n",
    "#     msg = 'Data terdistribusi normal'\n",
    "# else:\n",
    "#     msg = 'Data tidak terdistribusi normal'\n",
    "\n",
    "# result_mat = [\n",
    "#     ['Length of the sample data', 'Test Statistic', 'p-value', 'Comments'],\n",
    "#     [len(data_gandum[4]), stat, p, msg]\n",
    "# ]\n",
    "\n",
    "# swt_table = ff.create_table(result_mat)\n",
    "# swt_table['data'][0].colorscale=[[0, '#2a3f5f'],[1, '#ffffff']]\n",
    "# swt_table['layout']['height']=200\n",
    "# swt_table['layout']['margin']['t']=50\n",
    "# swt_table['layout']['margin']['b']=50\n",
    "\n",
    "# py.iplot(swt_table, filename='shapiro-wilk-table')"
   ]
  },
  {
   "cell_type": "code",
   "execution_count": null,
   "metadata": {},
   "outputs": [],
   "source": [
    "# INI REFERENSI GAMBAR\n",
    "\n",
    "# Yang ini Hasil jelek\n",
    "# mu = data_gandum[10].mean()\n",
    "# variance = data_gandum[10].var()\n",
    "# sigma = math.sqrt(variance)\n",
    "# x = np.linspace(mu - 3*sigma, mu + 3*sigma, 100)\n",
    "# plt.plot(x, stats.norm.pdf(x, mu, sigma))\n",
    "# plt.show()\n",
    "\n",
    "# Yang ini Hasil bagus\n",
    "# sns.distplot(data_gandum[10], hist=True, kde=True,\n",
    "#             bins=100, color='blue',\n",
    "#             hist_kws={'edgecolor':'black'},\n",
    "#             kde_kws={'linewidth':4})"
   ]
  },
  {
   "cell_type": "code",
   "execution_count": 13,
   "metadata": {},
   "outputs": [
    {
     "name": "stdout",
     "output_type": "stream",
     "text": [
      "81.0\n",
      "319.0\n"
     ]
    }
   ],
   "source": [
    "#-----------------NO. 5-----------------------\n",
    "\n",
    "# 5.a)\n",
    "dataAB1 = data_gandum[data_gandum[11]==1][5]\n",
    "dataAB2 = data_gandum[data_gandum[11]==2][5]\n",
    "\n",
    "# H0: miu1 = miu2\n",
    "\n",
    "# H1: miu1 != miu2\n",
    "\n",
    "# alpha = 0.05\n",
    "\n",
    "# Uji statistik menggunakan Mann-Whitney U Test\n",
    "# sample didapatkan dari fungsi random.sample(dataAB1.values.tolist(),20) dan random.sample(dataAB2.values.tolist(),20)\n",
    "sample1 = [5381, 5949, 6386, 7583, 5304, 5513, 5668, 3723, 4558, 4995, 5834, 5019, 6542, 4122, 4355, 5761, 6785, 6426, 6053, 6537]\n",
    "sample2 = [5193, 3358, 4045, 3132, 5945, 4551, 4698, 4144, 4795, 3586, 6092, 5197, 3621, 5388, 4281, 5819, 3942, 2950, 5285, 3802]\n",
    "\n",
    "n1 = len(sample1)\n",
    "n2 = len(sample2)\n",
    "\n",
    "rank = []\n",
    "for i in range(n1):\n",
    "    rank.append([1,sample1[i]])\n",
    "for i in range(n2):\n",
    "    rank.append([2,sample2[i]])\n",
    "rank.sort(key=lambda x: x[1])\n",
    "\n",
    "R1 = 0\n",
    "R2 = 0\n",
    "\n",
    "for i in range(40):\n",
    "    if(rank[i][0]==1):\n",
    "        R1 += i + 1\n",
    "    else:\n",
    "        R2 += i + 1\n",
    "\n",
    "U1 = (n1*n2) + (n1*(n1+1))/2 - R1\n",
    "U2 = (n1*n2) + (n1*(n1+1))/2 - R2\n",
    "print(U1)\n",
    "print(U2)\n",
    "# karena U1 = 207 > 193 = U2, maka U diambil yang terkecil, U = 193\n",
    "\n",
    "# p0.05 = 127 berdasarkan tabel Mann-Whitney\n",
    "\n",
    "# karena  U = 193 > 127 = p0.05, H0 diterima\n",
    "# Kesimpulan: Rata-rata bagian awal dan rata-rata bagian akhir sama itu benar"
   ]
  },
  {
   "cell_type": "code",
   "execution_count": 13,
   "metadata": {},
   "outputs": [
    {
     "name": "stdout",
     "output_type": "stream",
     "text": [
      "-11.602281354418498\n"
     ]
    }
   ],
   "source": [
    "# 5.b)\n",
    "\n",
    "# Memisahkan data atas dan bawah dari kolom Ransum\n",
    "dataKA1 = data_gandum[data_gandum[11]==1][7]\n",
    "dataKA2 = data_gandum[data_gandum[11]==2][7]\n",
    "\n",
    "# Mengambil sample dari fungsi random.sample(dataKA1.values.tolist(),50) dan random.sample(dataKA2.values.tolist(),50)\n",
    "sampleR1 = [0.566356108, 0.801258872, 0.69487504, 0.673792645, 0.5250165520000001, 0.593892813, 0.579747299, 0.54781136, 0.531283711, 0.747620307, 0.794761905, 0.6664001070000001, 0.631913541, 0.54693172, 0.551971326, 0.689863445, 0.5440145989999999, 0.732283465, 0.539996069, 0.719076006, 0.557024958, 0.542996454, 0.633444075, 0.682787879, 0.7067550509999999, 0.666881374, 0.6515050170000001, 0.878899083, 0.8699186990000001, 0.514405279, 0.549528302, 0.796086957, 0.720927318, 0.741213152, 0.6767299859999999, 0.551780822, 0.737275986, 0.803747398, 0.56293578, 0.810586177, 0.654947917, 0.7348668279999999, 0.546064276, 0.526988365, 0.550558036, 0.573790627, 0.53380815, 0.5259334920000001, 0.737871675, 0.734779095]\n",
    "sampleR2 = [0.553790176, 0.652214715, 0.5684466020000001, 0.8495098040000001, 0.658262108, 0.820332356, 0.66509434, 0.59477346, 0.6109375, 0.7235449740000001, 0.824404762, 0.594364937, 0.597554348, 0.813333333, 0.617575758, 0.542670683, 0.655116655, 0.661374511, 0.596730855, 0.596557121, 0.753608761, 0.576942169, 0.613541376, 0.584908425, 0.5775786070000001, 0.772633745, 0.852725367, 0.6622337660000001, 0.614003857, 0.803002502, 0.709879176, 0.563208943, 0.713008937, 0.628942245, 0.5146929179999999, 0.782818145, 0.592223803, 0.877896613, 0.759153176, 0.7970920140000001, 0.563398693, 0.575181159, 0.6422427039999999, 0.81712963, 0.53796765, 0.6092045460000001, 0.623705004, 0.833097345, 0.579075131, 0.565625386]\n",
    "n1 = len(sampleR1)\n",
    "n2 = len(sampleR2)\n",
    "\n",
    "# sampleD1 = random.sample(dataKA1.values.tolist(),50)\n",
    "# print(sampleD1)\n",
    "# sampleD2 = random.sample(dataKA2.values.tolist(),50)\n",
    "# print(sampleD2)\n",
    "\n",
    "#1. H0 : miu1 - miu2 = 0.2\n",
    "\n",
    "#2. H1 : miu1 - miu2 != 0.2\n",
    "\n",
    "#3. alpha = 0.05\n",
    "\n",
    "#4. Uji statistik yang digunakan tes proporsi antara 2 sampel dengan teorema limit pusat sehingga dengan n yang besar, populasi dianggap terdistribusi normal.\n",
    "#   Dengan daerah kritisnya Z != Z0.05. Z < -1.96 atau Z > 1.96\n",
    "\n",
    "#5. Komputasi\n",
    "#rata2 sampleR1 dan sampleR2\n",
    "xbar1 = sum(sampleR1) / n1\n",
    "xbar2 = sum(sampleR2) / n2\n",
    "# print(xbar1)\n",
    "# print(xbar2)\n",
    "\n",
    "#std populasi dataR1 dan dataR2\n",
    "std1 = np.std(dataKA1) \n",
    "std2 = np.std(dataKA2)\n",
    "# print(np.std(dataR1))\n",
    "# print(np.std(dataR2))\n",
    "\n",
    "#menghitung z\n",
    "z = ((xbar1 - xbar2) - 0.2) / math.sqrt((std1**2 / n1) + (std2**2 / n2))\n",
    "print(z)\n",
    "\n",
    "#6. Keputusan\n",
    "#Dengan z berada di daerah kritis z = -11.602281354418498 < -1.96 maka dapat diputuskan menolak H0. P-Value dari tes ini adalah\n",
    "#P(Z<-11.602281354418498) dimana nilai P-Value tersebut sangat kecil (otomatis lebih kecil dari alpha) sehingga sudah fix menolak H0\n",
    "\n",
    "#KESIMPULAN\n",
    "#rata-rata bagin awal KadarAir LEBIH BESAR dari rata-rata bagian akhir KadarAir SEBESAR 0.2 ITU SALAH"
   ]
  },
  {
   "cell_type": "code",
   "execution_count": 17,
   "metadata": {},
   "outputs": [
    {
     "name": "stdout",
     "output_type": "stream",
     "text": [
      "5.619514869490163\n"
     ]
    }
   ],
   "source": [
    "# 5.d)\n",
    "\n",
    "# Memisahkan data atas dan bawah dari kolom Ransum\n",
    "dataR1 = data_gandum[data_gandum[11]==1][10]\n",
    "dataR2 = data_gandum[data_gandum[11]==2][10]\n",
    "\n",
    "# Mengambil sample dari fungsi random.sample(dataR1.values.tolist(),50) dan random.sample(dataR2.values.tolist(),50)\n",
    "sampleR1 = [2.2601373369999997, 2.292288889, 2.402829454, 2.4537694340000002, 2.3939091180000003, 2.416421796, 2.194158073, 2.3662528469999997, 2.43176546, 2.365691672, 2.3581407569999997, 2.226576302, 2.397473566, 2.4635457290000002, 2.267809234, 2.213027428, 2.267748924, 2.382918257, 2.449573567, 2.335253858, 2.212887655, 2.412698905, 2.44453248, 2.278028913, 2.381033342, 2.43633347, 2.31916698, 2.3101413980000003, 2.418896288, 2.383162254, 2.3441162980000003, 2.293674225, 2.4542281669999997, 2.328431431, 2.325960705, 2.4043579459999997, 2.367812796, 2.427229072, 2.4615104430000003, 2.4603080530000003, 2.2014455930000003, 2.209733911, 2.340134912, 2.330281955, 2.43330455, 2.2040126769999997, 2.35103612, 2.267500333, 2.324667319, 2.3170592169999997]\n",
    "sampleR2 = [1.8638285680000002, 1.7475232809999999, 2.097097749, 1.938606424, 1.8864395919999999, 1.686592141, 2.168974314, 2.181716211, 1.8501391459999998, 2.067587589, 2.1077401890000003, 1.830091344, 2.156809452, 2.190441243, 2.011183955, 2.023376728, 1.8337401480000002, 1.96817911, 2.0630551180000003, 2.218493122, 2.1224433119999997, 1.931058138, 2.045159464, 1.8540136230000002, 2.0417904819999997, 1.88785243, 1.799959097, 1.826251811, 2.005042746, 1.51000024, 2.1248375580000003, 2.078462475, 1.88870019, 2.163122241, 2.193132409, 1.7885274580000001, 2.102246978, 2.071131797, 2.008504397, 1.817608766, 1.9209430459999999, 2.069290354, 1.978690245, 2.093760238, 2.070935285, 1.778399476, 2.063136708, 1.675639128, 1.668112772, 1.8055657019999998]\n",
    "n1 = len(sampleR1)\n",
    "n2 = len(sampleR2)\n",
    "\n",
    "# sampleD1 = random.sample(dataR1.values.tolist(),50)\n",
    "# print(sampleD1)\n",
    "# sampleD2 = random.sample(dataR2.values.tolist(),50)\n",
    "# print(sampleD2)\n",
    "\n",
    "#1. H0 : P1 - P2 = 0\n",
    "\n",
    "#2. H1 : P1 - P2 > 0\n",
    "\n",
    "#3. alpha = 0.05\n",
    "\n",
    "#4. Uji statistik yang digunakan tes proporsi antara 2 sampel dengan teorema limit pusat sehingga dengan n yang besar, populasi dianggap terdistribusi normal.\n",
    "#   Dengan daerah kritisnya Z > Z0.05. Z >1.645\n",
    "\n",
    "#5. Komputasi\n",
    "#proporsi sampleR1 dan sampleR2\n",
    "count1 = 0\n",
    "for val1 in sampleR1:\n",
    "    if (val1>2):\n",
    "        count1 += 1\n",
    "# print(count1)\n",
    "\n",
    "count2 = 0\n",
    "for val2 in sampleR2:\n",
    "    if (val2>2):\n",
    "        count2 += 1\n",
    "# print(count2)\n",
    "\n",
    "P1 = count1 / n1\n",
    "P2 = count2 / n2\n",
    "PAll = (count1+count2) / (n1+n2)\n",
    "\n",
    "#menghitung z\n",
    "z = (P1-P2) / math.sqrt(PAll*(1-PAll)*(1/n1 + 1/n2))\n",
    "print(z)\n",
    "\n",
    "#6. Keputusan\n",
    "#Dengan z berada di daerah kritis z = 5.619514869490163 > 1.645 maka dapat diputuskan menolak H0. P-Value dari tes ini adalah\n",
    "#P(Z>5.619514869490163) dimana nilai P-Value tersebut sangat kecil (otomatis lebih kecil dari alpha) sehingga sudah fix menolak H0\n",
    "\n",
    "#KESIMPULAN\n",
    "#proporsi nilai Ransum bagian awal lebih dari 2 LEBIH BESAR dari proporsi nilai Ransum bagian bawah lebih dari 2 itu BENAR. "
   ]
  },
  {
   "cell_type": "code",
   "execution_count": null,
   "metadata": {},
   "outputs": [],
   "source": []
  }
 ],
 "metadata": {
  "kernelspec": {
   "display_name": "Python 3",
   "language": "python",
   "name": "python3"
  },
  "language_info": {
   "codemirror_mode": {
    "name": "ipython",
    "version": 3
   },
   "file_extension": ".py",
   "mimetype": "text/x-python",
   "name": "python",
   "nbconvert_exporter": "python",
   "pygments_lexer": "ipython3",
   "version": "3.7.5"
  }
 },
 "nbformat": 4,
 "nbformat_minor": 2
}
